{
 "cells": [
  {
   "cell_type": "markdown",
   "id": "17819f81",
   "metadata": {},
   "source": [
    "# Assginment:\n"
   ]
  },
  {
   "cell_type": "markdown",
   "id": "b370058d",
   "metadata": {},
   "source": [
    "<p style=\"font-size:30px; font-family:verdana; line-height: 1em\">\n",
    "Question:1</p>\n",
    "<p style=\"font-size:20px; font-family:verdana; line-height: 1em\">Write a python code for converting integer values to Indian currency notations, without using the currency libraries:</p>"
   ]
  },
  {
   "cell_type": "code",
   "execution_count": 1,
   "id": "f3df40bc",
   "metadata": {},
   "outputs": [],
   "source": [
    "import decimal\n",
    "def Currency_convertor(n):\n",
    "  d = decimal.Decimal(str(n))\n",
    "  # 1: For converting the N number of exponents to 2 exponents\n",
    "   \n",
    "  if d.as_tuple().exponent < -2:\n",
    "    s = str(n)\n",
    "  else:\n",
    "    s = '{0:.2f}'.format(n)\n",
    "  i = len(s)-1\n",
    "  # 2: Creating dummy variable\n",
    "\n",
    "  new_num,val,k = '',0,0 \n",
    "\n",
    "  # 3: Converting the numbers\n",
    "\n",
    "  #checking the value in reverse order\n",
    "  while i>=0:\n",
    "    if val==0:\n",
    "      new_num = new_num + s[i]\n",
    "    \n",
    "    # 4: checking for decimal\n",
    "    \n",
    "    if s[i]=='.':\n",
    "        val = 1\n",
    "        \n",
    "    # 5: Checking for the Thousand place\n",
    "\n",
    "    elif val==1:\n",
    "      k = k + 1\n",
    "      new_num = new_num + s[i]\n",
    "      if k==3 and i-1>=0:\n",
    "        new_num = new_num + ','\n",
    "        val = 2\n",
    "        k = 0\n",
    "        \n",
    "    # 6: Checking the lakhs and crores places\n",
    "    \n",
    "    else:\n",
    "      k = k + 1\n",
    "      new_num = new_num + s[i]\n",
    "      if k==2 and i-1>=0:\n",
    "        new_num = new_num + ','\n",
    "        val = 2\n",
    "        k = 0\n",
    "    i = i - 1\n",
    "\n",
    "  return new_num[::-1]"
   ]
  },
  {
   "cell_type": "code",
   "execution_count": 10,
   "id": "780e5b45",
   "metadata": {},
   "outputs": [
    {
     "name": "stdout",
     "output_type": "stream",
     "text": [
      "458796321\n"
     ]
    },
    {
     "data": {
      "text/plain": [
       "'45,87,96,321.00'"
      ]
     },
     "execution_count": 10,
     "metadata": {},
     "output_type": "execute_result"
    }
   ],
   "source": [
    "Currency_convertor(int(input()))"
   ]
  },
  {
   "cell_type": "markdown",
   "id": "7ea97303",
   "metadata": {},
   "source": [
    "\n",
    "<p style=\"font-size:30px; font-family:verdana; line-height: 1em\">Question2</p>"
   ]
  },
  {
   "cell_type": "code",
   "execution_count": 3,
   "id": "69100fa8",
   "metadata": {},
   "outputs": [],
   "source": [
    "# Bigger_hight_person function\n",
    "def Bigger_hight_person():\n",
    "    T=int(input('Enter the Test cases'))\n",
    "    val=[]\n",
    "    for i in range(T):\n",
    "        #Taking inputs\n",
    "        N=[int(i) for i in input().split()]#for total number of peoples and hight of  Gi-Hun and Ali\n",
    "        K=[int(i) for i in input().split()]#for  hight of  npeoples\n",
    "        v=0\n",
    "        # comparing the heights from other persons\n",
    "        for i in range(N[0]):\n",
    "            if K[i]>N[1]:\n",
    "                v=v+1\n",
    "        val.append(v)\n",
    "    for i in val:\n",
    "        print(i)"
   ]
  },
  {
   "cell_type": "code",
   "execution_count": 4,
   "id": "38ead730",
   "metadata": {},
   "outputs": [
    {
     "name": "stdout",
     "output_type": "stream",
     "text": [
      "Enter the Test cases3\n",
      "4 10\n",
      "2 13 4 16\n",
      "5 8\n",
      "9 3 8 8 4\n",
      "4 6\n",
      "1 2 3 4\n",
      "2\n",
      "1\n",
      "0\n"
     ]
    }
   ],
   "source": [
    "Bigger_hight_person()"
   ]
  }
 ],
 "metadata": {
  "kernelspec": {
   "display_name": "Python 3 (ipykernel)",
   "language": "python",
   "name": "python3"
  },
  "language_info": {
   "codemirror_mode": {
    "name": "ipython",
    "version": 3
   },
   "file_extension": ".py",
   "mimetype": "text/x-python",
   "name": "python",
   "nbconvert_exporter": "python",
   "pygments_lexer": "ipython3",
   "version": "3.9.12"
  }
 },
 "nbformat": 4,
 "nbformat_minor": 5
}
